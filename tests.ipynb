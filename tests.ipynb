{
 "cells": [
  {
   "cell_type": "code",
   "execution_count": null,
   "metadata": {},
   "outputs": [],
   "source": [
    "import cv2\n",
    "import numpy as np\n",
    "import os\n",
    "\n",
    "# Read the main image and the overlay image\n",
    "main_img = cv2.imread(\"photos/20230607crop1011.jpg\")\n",
    "overlay_img = cv2.imread(\"segmentations/20230607crop1011.png\", cv2.IMREAD_UNCHANGED)  # Preserving the alpha channel\n",
    "\n",
    "# Make sure the images have the same dimensions\n",
    "if main_img.shape[:2] != overlay_img.shape[:2]:\n",
    "    overlay_img = cv2.resize(overlay_img, (main_img.shape[1], main_img.shape[0]))\n",
    "\n",
    "# Extract the alpha channel from the overlay image and normalize it\n",
    "alpha_channel = overlay_img[:, :, 3] / 255.0\n",
    "\n",
    "# Perform the overlay\n",
    "for c in range(0, 3):\n",
    "    main_img[:, :, c] = (1 - alpha_channel) * main_img[:, :, c] + alpha_channel * overlay_img[:, :, c]\n",
    "\n",
    "\n",
    "#make out dit\n",
    "\n",
    "if not os.path.exists('out'):\n",
    "    os.makedirs('out')  \n",
    "# Save the result\n",
    "cv2.imwrite(\"output/Composite20230607crop1011.jpg\", main_img)\n"
   ]
  },
  {
   "cell_type": "code",
   "execution_count": 1,
   "metadata": {},
   "outputs": [
    {
     "name": "stdout",
     "output_type": "stream",
     "text": [
      "Correcting perspective for image: input/photos/20230607crop1011.jpg\n",
      "Illustration image saved to: output/rect/Illustration_20230607crop1011.jpg\n"
     ]
    }
   ],
   "source": [
    "from main import correct_perspective\n",
    "from Logger import Logger\n",
    "import os\n",
    "\n",
    "mask_img_path = 'input/segmentations/20230607crop1011.png'\n",
    "mask_img_name = os.path.basename(mask_img_path)\n",
    "\n",
    "real_img_path = 'input/photos/20230607crop1011.jpg'\n",
    "real_img_name = mask_img_name.split('.')[0] + '.jpg'\n",
    "\n",
    "# make test dir\n",
    "os.makedirs('test/logs', exist_ok=True)\n",
    "\n",
    "\n",
    "# call correct perspective with  and \n",
    "\n",
    "Logger = Logger(f'logs/{real_img_name.split(\".\")[0]}.log', 'test').get_logger()\n",
    "\n",
    "img = correct_perspective(mask_img_path, real_img_path, Logger)"
   ]
  }
 ],
 "metadata": {
  "kernelspec": {
   "display_name": "Python 3",
   "language": "python",
   "name": "python3"
  },
  "language_info": {
   "codemirror_mode": {
    "name": "ipython",
    "version": 3
   },
   "file_extension": ".py",
   "mimetype": "text/x-python",
   "name": "python",
   "nbconvert_exporter": "python",
   "pygments_lexer": "ipython3",
   "version": "3.10.12"
  },
  "orig_nbformat": 4
 },
 "nbformat": 4,
 "nbformat_minor": 2
}
